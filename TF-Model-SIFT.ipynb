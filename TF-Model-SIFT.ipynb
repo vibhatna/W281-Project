{
 "cells": [
  {
   "cell_type": "code",
   "execution_count": 1,
   "id": "df894660",
   "metadata": {},
   "outputs": [],
   "source": [
    "import os\n",
    "import cv2\n",
    "import numpy as np\n",
    "import pandas as pd\n",
    "import csv"
   ]
  },
  {
   "cell_type": "markdown",
   "id": "733035a4",
   "metadata": {},
   "source": [
    "## Config"
   ]
  },
  {
   "cell_type": "code",
   "execution_count": null,
   "id": "639ff3e5",
   "metadata": {},
   "outputs": [],
   "source": [
    "TRAINING_DATA_PATH = './TargetData-TF-Train.csv'\n",
    "VALIDATION_DATA_PATH = './TargetData-TF-Valid.csv'\n",
    "VALIDATION_DATA_PREDICTION_PATH = './TargetData-TF-Valid-Prediction.csv'\n",
    "TEST_DATA_PATH = './TargetData-TF-Test.csv'\n",
    "\n",
    "IMAGE_FOLDER_PATH = './TargetImages-TF/'\n",
    "\n",
    "TARGET_CLASSES_MAPPING = {}\n",
    "TARGET_CLASSES_MAPPING[10419] = 'Qutub Minar'\n",
    "TARGET_CLASSES_MAPPING[47378] = 'Eiffel Tower'\n",
    "TARGET_CLASSES_MAPPING[168098] = 'Golden Gate Bridge'\n",
    "TARGET_CLASSES_MAPPING[162833] = 'Pakistan Monument'\n",
    "TARGET_CLASSES_MAPPING[1924] = 'Niagara River'\n",
    "\n",
    "SIFT_FACTOR = 0.50\n",
    "SIFT = cv2.xfeatures2d.SIFT_create()\n",
    "\n",
    "index_params = dict(algorithm=0, trees=5)\n",
    "search_params = dict()"
   ]
  },
  {
   "cell_type": "markdown",
   "id": "b33bd01c",
   "metadata": {},
   "source": [
    "## Dataset"
   ]
  },
  {
   "cell_type": "code",
   "execution_count": 3,
   "id": "5ad6ec3b",
   "metadata": {},
   "outputs": [],
   "source": [
    "def load_data(filename):\n",
    "    df = pd.read_csv(filename)\n",
    "    \n",
    "    id_mapping = {}\n",
    "    id_sift_des = {}\n",
    "    \n",
    "    \n",
    "    for index in range(len(df)):\n",
    "        image_id = df['id'][index]\n",
    "        image_label = df['landmark_id'][index]\n",
    "        \n",
    "        if index % 25 == 0:\n",
    "            print(f'Read {index} images')\n",
    "            \n",
    "        id_mapping[image_id] = image_label\n",
    "        image_path = os.path.join(IMAGE_FOLDER_PATH, image_id + '.jpg')        \n",
    "        image = cv2.imread(image_path, cv2.IMREAD_GRAYSCALE)        \n",
    "        _, des_sift = SIFT.detectAndCompute(image, None)\n",
    "        \n",
    "        id_sift_des[image_id] = des_sift\n",
    "        \n",
    "    return id_mapping, id_sift_des"
   ]
  },
  {
   "cell_type": "code",
   "execution_count": 4,
   "id": "269c1f4c",
   "metadata": {},
   "outputs": [
    {
     "name": "stdout",
     "output_type": "stream",
     "text": [
      "Read 0 images\n",
      "Read 25 images\n",
      "Read 50 images\n",
      "Read 75 images\n",
      "Read 100 images\n",
      "Read 125 images\n",
      "Read 150 images\n",
      "Read 175 images\n",
      "Read 200 images\n",
      "Read 225 images\n"
     ]
    }
   ],
   "source": [
    "train_id_mapping, train_id_sift_des = load_data(TRAINING_DATA_PATH)"
   ]
  },
  {
   "cell_type": "code",
   "execution_count": 5,
   "id": "29256f29",
   "metadata": {},
   "outputs": [
    {
     "name": "stdout",
     "output_type": "stream",
     "text": [
      "Read 0 images\n",
      "Read 25 images\n",
      "Read 50 images\n",
      "Read 75 images\n",
      "Read 100 images\n"
     ]
    }
   ],
   "source": [
    "valid_id_mapping, valid_id_sift_des = load_data(VALIDATION_DATA_PATH)"
   ]
  },
  {
   "cell_type": "code",
   "execution_count": 6,
   "id": "2b94b198",
   "metadata": {},
   "outputs": [],
   "source": [
    "def good_matching(matches, factor):    \n",
    "    good_points = []\n",
    "    for m, n in matches:\n",
    "        if m.distance < (factor*n.distance):\n",
    "            good_points.append(m)    \n",
    "    \n",
    "    return len(good_points)\n",
    "\n",
    "\n",
    "def good_matching(des_a, des_b):\n",
    "    flann = cv2.FlannBasedMatcher(index_params, search_params)\n",
    "    matches = flann.knnMatch(des_a, des_b, k=2)\n",
    "\n",
    "    return matches\n",
    "\n",
    "\n",
    "def tf_predictor(reference_id_mapping, reference_id_sift_des, sample_sift_des):\n",
    "    \n",
    "    good_matches_sift = {}\n",
    "    for key,values in TARGET_CLASSES_MAPPING.items():\n",
    "        good_matches_sift[key] = 0\n",
    "        \n",
    "    gm_count = 0\n",
    "    max_gm_count = 0\n",
    "    max_gm_label = -1\n",
    "    max_gm_reference = ''\n",
    "    for image_id, image_label in reference_id_mapping.items():\n",
    "        \n",
    "        gm_count = good_matching(\n",
    "            matching(reference_id_sift_des[image_id], sample_sift_des),\n",
    "            SIFT_FACTOR)\n",
    "        \n",
    "        good_matches_sift[image_label] += gm_count\n",
    "        \n",
    "        if gm_count > max_gm_count:\n",
    "            max_gm_count = gm_count\n",
    "            max_gm_label = image_label\n",
    "            max_gm_reference = image_id            \n",
    "        \n",
    "        \n",
    "    max_agg_matches = 0\n",
    "    max_agg_label = -1\n",
    "    for image_label, good_match_count in  good_matches_sift.items():\n",
    "        if good_match_count > max_agg_matches:\n",
    "            max_agg_matches = good_match_count\n",
    "            max_agg_label = image_label            \n",
    "    \n",
    "    return max_agg_label, max_gm_label, max_gm_reference"
   ]
  },
  {
   "cell_type": "markdown",
   "id": "3d695f04",
   "metadata": {},
   "source": [
    "## Prediction"
   ]
  },
  {
   "cell_type": "code",
   "execution_count": null,
   "id": "6013dbf7",
   "metadata": {},
   "outputs": [],
   "source": [
    "df_valid = pd.read_csv(VALIDATION_DATA_PATH)\n",
    "df_valid['prediction_agg'] = 'Missing Prediction'\n",
    "df_valid['prediction_max'] = 'Missing Prediction'\n",
    "df_valid['prediction_max_ref'] = 'Missing Prediction'\n",
    "\n",
    "total_test_correct_agg = 0\n",
    "total_test_correct_max = 0\n",
    "index = 0\n",
    "\n",
    "for index in range(len(df_valid)):\n",
    "    image_id = df_valid['id'][index]\n",
    "    image_label = df_valid['landmark_id'][index]\n",
    "    \n",
    "    max_agg_label, max_gm_label, max_gm_reference= tf_predictor(\n",
    "        train_id_mapping, train_id_sift_des, valid_id_sift_des[image_id])\n",
    "    \n",
    "    \n",
    "    if image_label == max_agg_label:\n",
    "        total_test_correct_agg += 1\n",
    "    \n",
    "    if image_label == max_gm_label:\n",
    "        total_test_correct_max += 1\n",
    "        \n",
    "    \n",
    "    df_valid['prediction_agg'][index] = max_agg_label\n",
    "    df_valid['prediction_max'][index] = max_gm_label\n",
    "    df_valid['prediction_max_ref'][index] = max_gm_reference\n",
    "\n",
    "    if index % 10 == 0:\n",
    "        print(f'Total Images: {index + 1}, Correct Agg Count: {total_test_correct_agg}, Correct Max Count: {total_test_correct_max}')\n",
    "\n"
   ]
  },
  {
   "cell_type": "code",
   "execution_count": 9,
   "id": "98293832",
   "metadata": {},
   "outputs": [
    {
     "name": "stdout",
     "output_type": "stream",
     "text": [
      "Total Images: 125, Correct Agg Count: 69, Correct Max Count: 60\n"
     ]
    }
   ],
   "source": [
    "print(f'Total Images: {index + 1}, Correct Agg Count: {total_test_correct_agg}, Correct Max Count: {total_test_correct_max}')\n",
    "df_valid.to_csv(VALIDATION_DATA_PREDICTION_PATH, sep=',')"
   ]
  },
  {
   "cell_type": "markdown",
   "id": "9fb77bfb",
   "metadata": {},
   "source": [
    "## Single Predictor"
   ]
  },
  {
   "cell_type": "code",
   "execution_count": null,
   "id": "6d8a9df5",
   "metadata": {},
   "outputs": [],
   "source": [
    "valid_image_id = '6335b108046384ea'\n",
    "\n",
    "max_agg_label, max_gm_label, max_gm_reference= tf_predictor(\n",
    "    train_id_mapping, train_id_sift_des, valid_id_sift_des['6335b108046384ea'])\n",
    "\n",
    "\n",
    "print(f'Label : {valid_id_mapping[valid_image_id]}')\n",
    "print(f'Max Agg Label : {max_agg_label}')\n",
    "print(f'Max GM Label : {max_gm_label}')\n",
    "print(f'Max GM Reference Image Id : {max_gm_reference}')"
   ]
  },
  {
   "cell_type": "code",
   "execution_count": null,
   "id": "7308cc11",
   "metadata": {},
   "outputs": [],
   "source": []
  },
  {
   "cell_type": "code",
   "execution_count": null,
   "id": "91ce095f",
   "metadata": {},
   "outputs": [],
   "source": []
  },
  {
   "cell_type": "code",
   "execution_count": null,
   "id": "6ae2e85e",
   "metadata": {},
   "outputs": [],
   "source": []
  },
  {
   "cell_type": "code",
   "execution_count": null,
   "id": "7f29378f",
   "metadata": {},
   "outputs": [],
   "source": []
  },
  {
   "cell_type": "code",
   "execution_count": null,
   "id": "2b7396ef",
   "metadata": {},
   "outputs": [],
   "source": []
  },
  {
   "cell_type": "code",
   "execution_count": null,
   "id": "04d2d860",
   "metadata": {},
   "outputs": [],
   "source": []
  },
  {
   "cell_type": "code",
   "execution_count": null,
   "id": "f39c822e",
   "metadata": {},
   "outputs": [],
   "source": []
  },
  {
   "cell_type": "code",
   "execution_count": null,
   "id": "3f15bb78",
   "metadata": {},
   "outputs": [],
   "source": []
  }
 ],
 "metadata": {
  "kernelspec": {
   "display_name": "W281",
   "language": "python",
   "name": "w281"
  },
  "language_info": {
   "codemirror_mode": {
    "name": "ipython",
    "version": 3
   },
   "file_extension": ".py",
   "mimetype": "text/x-python",
   "name": "python",
   "nbconvert_exporter": "python",
   "pygments_lexer": "ipython3",
   "version": "3.10.4"
  }
 },
 "nbformat": 4,
 "nbformat_minor": 5
}
