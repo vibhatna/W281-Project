{
 "cells": [
  {
   "cell_type": "code",
   "execution_count": 1,
   "metadata": {},
   "outputs": [
    {
     "name": "stderr",
     "output_type": "stream",
     "text": [
      "C:\\Users\\vibhatna.FAREAST\\Anaconda3\\envs\\W281\\lib\\site-packages\\tqdm\\auto.py:22: TqdmWarning: IProgress not found. Please update jupyter and ipywidgets. See https://ipywidgets.readthedocs.io/en/stable/user_install.html\n",
      "  from .autonotebook import tqdm as notebook_tqdm\n"
     ]
    }
   ],
   "source": [
    "import os\n",
    "import matplotlib.pyplot as plt\n",
    "from PIL import Image, ImageFile\n",
    "import pandas as pd\n",
    "import numpy as np\n",
    "\n",
    "import tez\n",
    "from tez.datasets import ImageDataset\n",
    "from tez.callbacks import EarlyStopping\n",
    "\n",
    "import torch\n",
    "import torch.nn as nn\n",
    "\n",
    "import torchvision\n",
    "\n",
    "from sklearn import metrics, model_selection\n",
    "from sklearn.metrics import confusion_matrix, ConfusionMatrixDisplay\n",
    "\n",
    "from transformers import AdamW\n",
    "from transformers import get_linear_schedule_with_warmup\n",
    "from tqdm.auto import tqdm\n",
    "\n",
    "import csv\n",
    "\n",
    "\n",
    "%matplotlib inline\n",
    "\n",
    "from skimage.io import imread, imshow\n",
    "from skimage.feature import hog\n",
    "from skimage import exposure"
   ]
  },
  {
   "cell_type": "markdown",
   "metadata": {},
   "source": [
    "## Config"
   ]
  },
  {
   "cell_type": "code",
   "execution_count": 2,
   "metadata": {},
   "outputs": [
    {
     "name": "stdout",
     "output_type": "stream",
     "text": [
      "Device: cpu\n"
     ]
    }
   ],
   "source": [
    "VERSION = 'vHog'\n",
    "MODEL_PATH = './Model/model' + VERSION + '.bin'\n",
    "TEST_PREDICTION_FILE = './TargetData-Test-Prediction-' + VERSION + '.csv'\n",
    "CLASS_ACCURACY_FILE = './TargetData-Test-Accuracy-' + VERSION + '.csv'\n",
    "\n",
    "IMAGE_SIZE = (400, 400)\n",
    "TRAIN_BATCH_SIZE  = 128\n",
    "VALID_BATCH_SIZE = 128\n",
    "TEST_BATCH_SIZE = 128\n",
    "EPOCHS = 20\n",
    "LEARNING_RATE = 6e-5\n",
    "\n",
    "TRAINING_DATA_PATH = './TargetData-Train.csv'\n",
    "VALIDATION_DATA_PATH = './TargetData-Valid.csv'\n",
    "TEST_DATA_PATH = './TargetData-Test.csv'\n",
    "\n",
    "IMAGE_FOLDER_PATH = './TargetImages/'\n",
    "\n",
    "\n",
    "device = torch.device(\"cpu\")\n",
    "torch.cuda.empty_cache()\n",
    "print(f'Device: {device}')"
   ]
  },
  {
   "cell_type": "markdown",
   "metadata": {},
   "source": [
    "## Dataset"
   ]
  },
  {
   "cell_type": "code",
   "execution_count": 3,
   "metadata": {},
   "outputs": [],
   "source": [
    "class GLRDataset:\n",
    "    def __init__(self, image_paths, targets, augmentations=None):\n",
    "        self.image_paths = image_paths\n",
    "        self.targets = targets\n",
    "        self.augmentations = augmentations\n",
    "        \n",
    "    def __len__(self):\n",
    "        return len(self.image_paths)    \n",
    "    \n",
    "    def __getitem__(self, item):\n",
    "        targets = self.targets[item]\n",
    "        image = Image.open(self.image_paths[item])\n",
    "        augmented_image = self.augmentations(image)        \n",
    "        hogfv, hog_image = hog(augmented_image, orientations=9, pixels_per_cell = (16,16),\n",
    "                       cells_per_block=(2,2), visualize=True, multichannel=True)        \n",
    "        \n",
    "        image_tensor = torch.tensor(hogfv.astype(np.float32))\n",
    "        \n",
    "        return {\n",
    "            'image': image_tensor,\n",
    "            'targets': torch.tensor(targets),\n",
    "        }"
   ]
  },
  {
   "cell_type": "code",
   "execution_count": 4,
   "metadata": {},
   "outputs": [
    {
     "name": "stdout",
     "output_type": "stream",
     "text": [
      "Total Batches in Train: 289\n",
      "Total Batches in Validation: 33\n",
      "Total Batches in Test: 36\n"
     ]
    }
   ],
   "source": [
    "# Training Data\n",
    "df_train = pd.read_csv(TRAINING_DATA_PATH)\n",
    "train_image_paths = [\n",
    "    os.path.join(IMAGE_FOLDER_PATH, x + '.jpg') for x in df_train.id.values\n",
    "]\n",
    "train_targets = df_train.label.values\n",
    "train_aug = torchvision.transforms.Compose(\n",
    "    [\n",
    "        torchvision.transforms.RandomResizedCrop(size=(IMAGE_SIZE[0], IMAGE_SIZE[1]))\n",
    "    ]\n",
    ")\n",
    "train_dataset = GLRDataset(\n",
    "    image_paths = train_image_paths,\n",
    "    targets = train_targets,\n",
    "    augmentations = train_aug\n",
    ")\n",
    "train_data_loader = torch.utils.data.DataLoader(\n",
    "    train_dataset,\n",
    "    batch_size=TRAIN_BATCH_SIZE,\n",
    "    shuffle=True\n",
    ")\n",
    "print(f'Total Batches in Train: {len(train_data_loader)}')\n",
    "###############################################################\n",
    "\n",
    "# Validation Data\n",
    "df_valid = pd.read_csv(VALIDATION_DATA_PATH)\n",
    "valid_image_paths = [\n",
    "    os.path.join(IMAGE_FOLDER_PATH, x + '.jpg') for x in df_valid.id.values\n",
    "]\n",
    "valid_targets = df_valid.label.values\n",
    "valid_aug = torchvision.transforms.Compose(\n",
    "    [\n",
    "        torchvision.transforms.CenterCrop(size=(IMAGE_SIZE[0], IMAGE_SIZE[1])),\n",
    "        torchvision.transforms.Resize(size=(IMAGE_SIZE[0], IMAGE_SIZE[1]))\n",
    "    ]\n",
    ")\n",
    "valid_dataset = GLRDataset(\n",
    "    image_paths = valid_image_paths,\n",
    "    targets = valid_targets,\n",
    "    augmentations = valid_aug\n",
    ")\n",
    "valid_data_loader = torch.utils.data.DataLoader(\n",
    "    valid_dataset,\n",
    "    batch_size=VALID_BATCH_SIZE,\n",
    "    shuffle=False\n",
    ")\n",
    "\n",
    "print(f'Total Batches in Validation: {len(valid_data_loader)}')\n",
    "###############################################################\n",
    "\n",
    "\n",
    "# Test Data\n",
    "df_test = pd.read_csv(TEST_DATA_PATH)\n",
    "test_image_paths = [\n",
    "    os.path.join(IMAGE_FOLDER_PATH, x + '.jpg') for x in df_test.id.values\n",
    "]\n",
    "test_targets = df_test.label.values\n",
    "test_aug = torchvision.transforms.Compose(\n",
    "    [\n",
    "        torchvision.transforms.CenterCrop(size=(IMAGE_SIZE[0], IMAGE_SIZE[1])),\n",
    "        torchvision.transforms.Resize(size=(IMAGE_SIZE[0], IMAGE_SIZE[1]))\n",
    "    ]\n",
    ")\n",
    "test_dataset = GLRDataset(\n",
    "    image_paths = test_image_paths,\n",
    "    targets = test_targets,\n",
    "    augmentations = test_aug\n",
    ")\n",
    "\n",
    "test_data_loader = torch.utils.data.DataLoader(\n",
    "    test_dataset,\n",
    "    batch_size=TEST_BATCH_SIZE,\n",
    "    shuffle=False\n",
    ")\n",
    "\n",
    "print(f'Total Batches in Test: {len(test_data_loader)}')\n",
    "###############################################################"
   ]
  },
  {
   "cell_type": "markdown",
   "metadata": {},
   "source": [
    "## Model"
   ]
  },
  {
   "cell_type": "code",
   "execution_count": 5,
   "metadata": {},
   "outputs": [],
   "source": [
    "class GLRModel(tez.Model):\n",
    "    def __init__(self, num_classes):\n",
    "        super().__init__()\n",
    "        self.hidden = nn.Linear(20736, 128)\n",
    "        self.out = nn.Linear(128, num_classes) \n",
    "    \n",
    "    def forward(self, image):\n",
    "        hidden = self.hidden(image)\n",
    "        outputs = self.out(hidden)\n",
    "        \n",
    "        return outputs"
   ]
  },
  {
   "cell_type": "markdown",
   "metadata": {},
   "source": [
    "## Loss Function"
   ]
  },
  {
   "cell_type": "code",
   "execution_count": 6,
   "metadata": {},
   "outputs": [],
   "source": [
    "def loss_function(outputs, targets):\n",
    "    return nn.CrossEntropyLoss()(outputs, targets)\n",
    "    \n",
    "def count_correct(outputs, targets):\n",
    "    outputs = torch.argmax(outputs, dim=1).cpu().detach().numpy()\n",
    "    targets = targets.cpu().detach().numpy()\n",
    "    total_correct = np.sum(outputs == targets)\n",
    "    \n",
    "    return total_correct"
   ]
  },
  {
   "cell_type": "code",
   "execution_count": null,
   "metadata": {},
   "outputs": [
    {
     "name": "stdout",
     "output_type": "stream",
     "text": [
      "Model Training Started\n"
     ]
    },
    {
     "name": "stderr",
     "output_type": "stream",
     "text": [
      "  0%|                                                                                                                                                                                 | 0/289 [00:00<?, ?it/s]C:\\Users\\vibhatna.FAREAST\\AppData\\Local\\Temp\\ipykernel_20448\\710014527.py:14: FutureWarning: `multichannel` is a deprecated argument name for `hog`. It will be removed in version 1.0. Please use `channel_axis` instead.\n",
      "  hogfv, hog_image = hog(augmented_image, orientations=9, pixels_per_cell = (16,16),\n",
      "100%|█████████████████████████████████████████████████████████████████████████████████████████████████████████████████████████████████████████████████████████████████████| 289/289 [1:07:28<00:00, 14.01s/it]\n",
      "100%|█████████████████████████████████████████████████████████████████████████████████████████████████████████████████████████████████████████████████████████████████████████| 33/33 [07:14<00:00, 13.16s/it]\n"
     ]
    },
    {
     "name": "stdout",
     "output_type": "stream",
     "text": [
      "Epoch: 1 :: Training Loss: 3.6670, Validation Loss: 3.5321\n",
      "Training Accuracy: 13.62, Validation Accuracy: 15.01\n"
     ]
    },
    {
     "name": "stderr",
     "output_type": "stream",
     "text": [
      "100%|█████████████████████████████████████████████████████████████████████████████████████████████████████████████████████████████████████████████████████████████████████| 289/289 [1:06:43<00:00, 13.85s/it]\n",
      "100%|█████████████████████████████████████████████████████████████████████████████████████████████████████████████████████████████████████████████████████████████████████████| 33/33 [07:09<00:00, 13.03s/it]\n"
     ]
    },
    {
     "name": "stdout",
     "output_type": "stream",
     "text": [
      "Epoch: 2 :: Training Loss: 3.3611, Validation Loss: 3.3150\n",
      "Training Accuracy: 17.57, Validation Accuracy: 17.23\n"
     ]
    },
    {
     "name": "stderr",
     "output_type": "stream",
     "text": [
      "100%|█████████████████████████████████████████████████████████████████████████████████████████████████████████████████████████████████████████████████████████████████████| 289/289 [1:04:57<00:00, 13.49s/it]\n",
      "100%|█████████████████████████████████████████████████████████████████████████████████████████████████████████████████████████████████████████████████████████████████████████| 33/33 [07:09<00:00, 13.02s/it]\n"
     ]
    },
    {
     "name": "stdout",
     "output_type": "stream",
     "text": [
      "Epoch: 3 :: Training Loss: 3.1732, Validation Loss: 3.2020\n",
      "Training Accuracy: 20.93, Validation Accuracy: 19.01\n"
     ]
    },
    {
     "name": "stderr",
     "output_type": "stream",
     "text": [
      "100%|█████████████████████████████████████████████████████████████████████████████████████████████████████████████████████████████████████████████████████████████████████| 289/289 [1:04:35<00:00, 13.41s/it]\n",
      " 30%|███████████████████████████████████████████████████▏                                                                                                                     | 10/33 [02:20<05:24, 14.10s/it]"
     ]
    }
   ],
   "source": [
    "NUM_CLASSES = df_train.label.nunique()\n",
    "model = GLRModel(num_classes = NUM_CLASSES)\n",
    "model.to(device)\n",
    "\n",
    "param_optimizer = list(model.named_parameters())\n",
    "no_decay = [\"bias\", \"LayerNorm.bias\", \"LayerNorm.weight\"]\n",
    "optimizer_parameters = [\n",
    "    {\n",
    "        \"params\": [\n",
    "            p for n, p in param_optimizer if not any(nd in n for nd in no_decay)\n",
    "        ],\n",
    "        \"weight_decay\": 0.005,\n",
    "    },\n",
    "    {\n",
    "        \"params\": [\n",
    "            p for n, p in param_optimizer if any(nd in n for nd in no_decay)\n",
    "        ],\n",
    "        \"weight_decay\": 0.0,\n",
    "    },\n",
    "]\n",
    "\n",
    "num_train_steps = int(len(train_data_loader) * EPOCHS)\n",
    "optimizer = torch.optim.AdamW(optimizer_parameters, lr=LEARNING_RATE)\n",
    "\n",
    "scheduler = get_linear_schedule_with_warmup(\n",
    "    optimizer,\n",
    "    num_warmup_steps=500,\n",
    "    num_training_steps=num_train_steps\n",
    ")\n",
    "\n",
    "best_loss = float('inf')\n",
    "print(f'Model Training Started')\n",
    "\n",
    "for epoch in range(EPOCHS):\n",
    "        \n",
    "    total_train_loss = 0.0\n",
    "    total_train_correct = 0\n",
    "    for batch_index, data in tqdm(enumerate(train_data_loader), total=len(train_data_loader)):        \n",
    "        \n",
    "        image = data['image']\n",
    "        targets = data['targets']\n",
    "        \n",
    "        image = image.to(device)\n",
    "        targets = targets.to(device)\n",
    "        \n",
    "        optimizer.zero_grad()\n",
    "        outputs = model(image=image)        \n",
    "        \n",
    "        loss = loss_function(outputs, targets)\n",
    "        \n",
    "        with torch.no_grad():\n",
    "            total_train_loss += loss.item()\n",
    "            total_train_correct += count_correct(outputs, targets)\n",
    "        \n",
    "        loss.backward()\n",
    "        optimizer.step()\n",
    "        scheduler.step()\n",
    "        \n",
    "    total_valid_loss = 0.0\n",
    "    total_valid_correct = 0\n",
    "    with torch.no_grad():\n",
    "        model.eval()\n",
    "        for batch_index, data in tqdm(enumerate(valid_data_loader), total=len(valid_data_loader)):\n",
    "            image = data['image']\n",
    "            targets = data['targets']\n",
    "        \n",
    "            image = image.to(device)\n",
    "            targets = targets.to(device)\n",
    "        \n",
    "            outputs = model(image=image)\n",
    "            \n",
    "            validloss = loss_function(outputs, targets)\n",
    "            total_valid_loss += validloss.item()            \n",
    "            total_valid_correct += count_correct(outputs, targets)\n",
    "            \n",
    "        total_valid_loss = total_valid_loss / len(valid_data_loader)\n",
    "        total_train_loss = total_train_loss / len(train_data_loader)\n",
    "        print(f'Epoch: {epoch + 1} :: Training Loss: {total_train_loss:.4f}, Validation Loss: {total_valid_loss:.4f}')\n",
    "        print(f'Training Accuracy: {total_train_correct / len(train_dataset) * 100:.2f}, Validation Accuracy: {total_valid_correct / len(valid_dataset) * 100:.2f}')\n",
    "        \n",
    "        if total_valid_loss < best_loss:\n",
    "            torch.save(model.state_dict(), MODEL_PATH)\n",
    "            best_loss = total_valid_loss"
   ]
  },
  {
   "cell_type": "code",
   "execution_count": null,
   "metadata": {},
   "outputs": [],
   "source": [
    "NUM_CLASSES = df_train.label.nunique()\n",
    "loaded_model = GLRModel(num_classes = NUM_CLASSES)\n",
    "loaded_model.to(device)\n",
    "loaded_model.load_state_dict(torch.load(MODEL_PATH))\n",
    "loaded_model.eval()\n",
    "\n",
    "total_test_correct = 0\n",
    "index = 0\n",
    "df_test['prediction'] = 'Missing Prediction'\n",
    "with torch.no_grad():\n",
    "        for batch_index, data in tqdm(enumerate(test_data_loader), total=len(test_data_loader)):\n",
    "            image = data['image']\n",
    "            targets = data['targets']\n",
    "        \n",
    "            image = image.to(device)\n",
    "            targets = targets.to(device)\n",
    "        \n",
    "            outputs = loaded_model(image=image)\n",
    "            total_test_correct += count_correct(outputs, targets)\n",
    "            outputs = torch.argmax(outputs, dim=1).cpu().detach().numpy()\n",
    "            for i in range(len(targets)):                            \n",
    "                df_test['prediction'][index] = outputs[i]\n",
    "                index += 1             \n",
    "\n",
    "                \n",
    "print(f'Test Accuracy: {total_test_correct / len(test_dataset) * 100:.2f}')       \n",
    "df_test.to_csv(TEST_PREDICTION_FILE, sep=',')"
   ]
  },
  {
   "cell_type": "code",
   "execution_count": null,
   "metadata": {},
   "outputs": [],
   "source": [
    "df_prediction = pd.read_csv(TEST_PREDICTION_FILE)\n",
    "class_correct_count = {}\n",
    "class_total_count = {}\n",
    "index = 0\n",
    "for label in df_prediction.label.values:\n",
    "    if label not in class_total_count:\n",
    "        class_total_count[label] = 0\n",
    "        class_correct_count[label] = 0\n",
    "        \n",
    "    if label == df_prediction.prediction[index]:\n",
    "        class_correct_count[label] += 1\n",
    "    \n",
    "    class_total_count[label] += 1\n",
    "    index+=1\n"
   ]
  },
  {
   "cell_type": "code",
   "execution_count": null,
   "metadata": {},
   "outputs": [],
   "source": [
    "accuracy_sum = 0.0\n",
    "\n",
    "with open(CLASS_ACCURACY_FILE, \"w\", newline='') as filec:\n",
    "    writerc = csv.writer(filec, delimiter=',')\n",
    "    writerc.writerow(('class_id','total_count', 'total_correct', 'accuracy'))\n",
    "    \n",
    "    for class_id, total_count in class_total_count.items():\n",
    "        total_correct = class_correct_count[class_id]\n",
    "        accuracy = total_correct / total_count * 100.0\n",
    "        accuracy_sum += accuracy\n",
    "        writerc.writerow((class_id, total_count, total_correct, round(accuracy, 2)))\n",
    "        \n",
    "        \n",
    "print(f'Balanced Accuracy: {accuracy_sum / NUM_CLASSES :.2f}')"
   ]
  },
  {
   "cell_type": "code",
   "execution_count": null,
   "metadata": {},
   "outputs": [],
   "source": []
  },
  {
   "cell_type": "code",
   "execution_count": null,
   "metadata": {},
   "outputs": [],
   "source": []
  },
  {
   "cell_type": "code",
   "execution_count": null,
   "metadata": {},
   "outputs": [],
   "source": []
  },
  {
   "cell_type": "code",
   "execution_count": null,
   "metadata": {},
   "outputs": [],
   "source": []
  },
  {
   "cell_type": "code",
   "execution_count": null,
   "metadata": {},
   "outputs": [],
   "source": []
  },
  {
   "cell_type": "code",
   "execution_count": null,
   "metadata": {},
   "outputs": [],
   "source": []
  },
  {
   "cell_type": "code",
   "execution_count": null,
   "metadata": {},
   "outputs": [],
   "source": [
    "image = Image.open('C:/W281-Project/Notebook/TargetImages/00dec359ff83bb9a.jpg')\n",
    "\n",
    "aug = torchvision.transforms.Compose(\n",
    "    [\n",
    "        torchvision.transforms.RandomResizedCrop(size=(400, 400))\n",
    "    ]\n",
    ")\n",
    "\n",
    "augmented_image = aug(image)\n",
    "hogfv, hog_image = hog(augmented_image, orientations=9, pixels_per_cell = (16,16),\n",
    "                       cells_per_block=(2,2), visualize=True, multichannel=True)\n",
    "\n",
    "print(len(hogfv))\n",
    "hog_image_rescaled = exposure.rescale_intensity(hog_image, in_range=(0,5))\n",
    "imshow(hog_image_rescaled)"
   ]
  },
  {
   "cell_type": "code",
   "execution_count": null,
   "metadata": {},
   "outputs": [],
   "source": []
  }
 ],
 "metadata": {
  "kernelspec": {
   "display_name": "W281",
   "language": "python",
   "name": "w281"
  },
  "language_info": {
   "codemirror_mode": {
    "name": "ipython",
    "version": 3
   },
   "file_extension": ".py",
   "mimetype": "text/x-python",
   "name": "python",
   "nbconvert_exporter": "python",
   "pygments_lexer": "ipython3",
   "version": "3.10.4"
  }
 },
 "nbformat": 4,
 "nbformat_minor": 4
}
