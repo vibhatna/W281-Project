{
 "cells": [
  {
   "cell_type": "code",
   "execution_count": null,
   "id": "a881c7d4",
   "metadata": {},
   "outputs": [],
   "source": [
    "import os\n",
    "import cv2\n",
    "import numpy as np\n",
    "import pandas as pd\n",
    "import csv"
   ]
  },
  {
   "cell_type": "markdown",
   "id": "f2ad998c",
   "metadata": {},
   "source": [
    "## Config"
   ]
  },
  {
   "cell_type": "code",
   "execution_count": 83,
   "id": "27964e0c",
   "metadata": {},
   "outputs": [],
   "source": [
    "TRAINING_DATA_PATH = './TargetData-TF-Train.csv'\n",
    "VALIDATION_DATA_PATH = './TargetData-TF-Valid.csv'\n",
    "TEST_DATA_PATH = './TargetData-TF-Test.csv'\n",
    "\n",
    "IMAGE_FOLDER_PATH = './TargetImages-TF/'\n",
    "\n",
    "TARGET_CLASSES_MAPPING = {}\n",
    "TARGET_CLASSES_MAPPING[10419] = 'Qutub Minar'\n",
    "TARGET_CLASSES_MAPPING[47378] = 'Eiffel Tower'\n",
    "TARGET_CLASSES_MAPPING[168098] = 'Golden Gate Bridge'\n",
    "TARGET_CLASSES_MAPPING[162833] = 'Pakistan Monument'\n",
    "TARGET_CLASSES_MAPPING[1924] = 'Niagara River'\n",
    "\n",
    "SIFT_FACTOR = 0.50\n",
    "ORB_FACTOR = 0.50\n",
    "\n",
    "orb = cv2.ORB_create()\n",
    "sift = cv2.xfeatures2d.SIFT_create()\n",
    "\n",
    "index_params = dict(algorithm=0, trees=5)\n",
    "search_params = dict()"
   ]
  },
  {
   "cell_type": "markdown",
   "id": "edaab068",
   "metadata": {},
   "source": [
    "## Dataset"
   ]
  },
  {
   "cell_type": "code",
   "execution_count": null,
   "id": "5ba7bc57",
   "metadata": {},
   "outputs": [],
   "source": [
    "def load_data(filename):\n",
    "    df = pd.read_csv(filename)\n",
    "    \n",
    "    id_mapping = {}\n",
    "    id_sift_des = {}\n",
    "    id_orb_des = {}\n",
    "    \n",
    "    \n",
    "    for index in range(len(df)):\n",
    "        image_id = df['id'][index]\n",
    "        image_label = df['landmark_id'][index]\n",
    "        \n",
    "        if index % 25 == 0:\n",
    "            print(f'Read {index} images')\n",
    "            \n",
    "        id_mapping[image_id] = image_label\n",
    "        image_path = os.path.join(IMAGE_FOLDER_PATH, image_id + '.jpg')\n",
    "        image = cv2.imread(image_path, cv2.IMREAD_GRAYSCALE)\n",
    "        \n",
    "        _, des_orb = orb.detectAndCompute(image, None)\n",
    "        _, des_sift = sift.detectAndCompute(image, None)\n",
    "        \n",
    "        id_sift_des[image_id] = des_sift\n",
    "        id_orb_des[image_id] = des_orb\n",
    "        \n",
    "    \n",
    "    return id_mapping, id_sift_des, id_orb_des"
   ]
  },
  {
   "cell_type": "code",
   "execution_count": null,
   "id": "b451f786",
   "metadata": {},
   "outputs": [],
   "source": [
    "trainid_mapping, trainid_sift_des, trainid_orb_des = load_data(TRAINING_DATA_PATH)"
   ]
  },
  {
   "cell_type": "code",
   "execution_count": null,
   "id": "d331195d",
   "metadata": {},
   "outputs": [],
   "source": [
    "validid_mapping, validid_sift_des, validid_orb_des = load_data(VALIDATION_DATA_PATH)"
   ]
  },
  {
   "cell_type": "code",
   "execution_count": 106,
   "id": "cd56d26a",
   "metadata": {},
   "outputs": [],
   "source": [
    "def good_matching(matches, factor):    \n",
    "    good_points = []\n",
    "    for m, n in matches:\n",
    "        if m.distance < factor*n.distance:\n",
    "            good_points.append(m)    \n",
    "    \n",
    "    return len(good_points)\n",
    "\n",
    "\n",
    "def matching(des_a, des_b):\n",
    "    flann = cv2.FlannBasedMatcher(index_params, search_params)\n",
    "    matches = flann.knnMatch(des_a, des_b, k=2)\n",
    "   \n",
    "    return matches\n",
    "\n",
    "\n",
    "def tf_predictor(referenceid_mapping, referenceid_sift_des, referenceid_orb_des,\n",
    "                sample_sift_des, sample_orb_des):\n",
    "    \n",
    "    good_matches_sift = {}\n",
    "    good_matches_orb = {}\n",
    "    for key,values in TARGET_CLASSES_MAPPING.items():\n",
    "        good_matches_sift[key] = 0\n",
    "        good_matches_orb[key] = 0\n",
    "        \n",
    "    index = 0\n",
    "    for image_id, image_label in referenceid_mapping.items():\n",
    "        \n",
    "        good_matches_sift[image_label] += good_matching(\n",
    "            matching(referenceid_sift_des[image_id], sample_sift_des),\n",
    "            SIFT_FACTOR)\n",
    "        \n",
    "        index += 1\n",
    "        if index % 25 == 0:\n",
    "            #print(f'Referenced : {index} training images')\n",
    "            pass\n",
    "        \n",
    "    max_matches = 0\n",
    "    max_label = -1\n",
    "    for image_label, good_match_count in  good_matches_sift.items():\n",
    "        if (good_match_count + good_matches_orb[image_label]) > max_matches:\n",
    "            max_matches = good_match_count + good_matches_orb[image_label]\n",
    "            max_label = image_label\n",
    "            \n",
    "    \n",
    "    return max_label, good_matches_sift, good_matches_orb"
   ]
  },
  {
   "cell_type": "code",
   "execution_count": 108,
   "id": "26dfd66d",
   "metadata": {},
   "outputs": [
    {
     "name": "stdout",
     "output_type": "stream",
     "text": [
      "Total Images: 1\n",
      "Total Images Correct Predicted: 0\n",
      "Total Images: 2\n",
      "Total Images Correct Predicted: 0\n",
      "Total Images: 3\n",
      "Total Images Correct Predicted: 1\n",
      "Total Images: 4\n",
      "Total Images Correct Predicted: 2\n",
      "Total Images: 5\n",
      "Total Images Correct Predicted: 3\n",
      "Total Images: 6\n",
      "Total Images Correct Predicted: 4\n",
      "Total Images: 7\n",
      "Total Images Correct Predicted: 4\n",
      "Total Images: 8\n",
      "Total Images Correct Predicted: 5\n",
      "Total Images: 9\n",
      "Total Images Correct Predicted: 6\n",
      "Total Images: 10\n",
      "Total Images Correct Predicted: 6\n",
      "Total Images: 11\n",
      "Total Images Correct Predicted: 7\n",
      "Total Images: 12\n",
      "Total Images Correct Predicted: 7\n",
      "Total Images: 13\n",
      "Total Images Correct Predicted: 8\n",
      "Total Images: 14\n",
      "Total Images Correct Predicted: 8\n",
      "Total Images: 15\n",
      "Total Images Correct Predicted: 8\n",
      "Total Images: 16\n",
      "Total Images Correct Predicted: 9\n",
      "Total Images: 17\n",
      "Total Images Correct Predicted: 9\n",
      "Total Images: 18\n",
      "Total Images Correct Predicted: 9\n",
      "Total Images: 19\n",
      "Total Images Correct Predicted: 10\n",
      "Total Images: 20\n",
      "Total Images Correct Predicted: 10\n",
      "Total Images: 21\n",
      "Total Images Correct Predicted: 10\n",
      "Total Images: 22\n",
      "Total Images Correct Predicted: 11\n",
      "Total Images: 23\n",
      "Total Images Correct Predicted: 12\n",
      "Total Images: 24\n",
      "Total Images Correct Predicted: 12\n",
      "Total Images: 25\n",
      "Total Images Correct Predicted: 13\n",
      "Total Images: 26\n",
      "Total Images Correct Predicted: 14\n",
      "Total Images: 27\n",
      "Total Images Correct Predicted: 14\n",
      "Total Images: 28\n",
      "Total Images Correct Predicted: 14\n",
      "Total Images: 29\n",
      "Total Images Correct Predicted: 15\n",
      "Total Images: 30\n",
      "Total Images Correct Predicted: 16\n",
      "Total Images: 31\n",
      "Total Images Correct Predicted: 16\n",
      "Total Images: 32\n",
      "Total Images Correct Predicted: 16\n",
      "Total Images: 33\n",
      "Total Images Correct Predicted: 17\n",
      "Total Images: 34\n",
      "Total Images Correct Predicted: 18\n",
      "Total Images: 35\n",
      "Total Images Correct Predicted: 19\n",
      "Total Images: 36\n",
      "Total Images Correct Predicted: 19\n",
      "Total Images: 37\n",
      "Total Images Correct Predicted: 20\n",
      "Total Images: 38\n",
      "Total Images Correct Predicted: 21\n",
      "Total Images: 39\n",
      "Total Images Correct Predicted: 21\n",
      "Total Images: 40\n",
      "Total Images Correct Predicted: 21\n",
      "Total Images: 41\n",
      "Total Images Correct Predicted: 22\n",
      "Total Images: 42\n",
      "Total Images Correct Predicted: 23\n",
      "Total Images: 43\n",
      "Total Images Correct Predicted: 24\n",
      "Total Images: 44\n",
      "Total Images Correct Predicted: 24\n",
      "Total Images: 45\n",
      "Total Images Correct Predicted: 24\n",
      "Total Images: 46\n",
      "Total Images Correct Predicted: 25\n",
      "Total Images: 47\n",
      "Total Images Correct Predicted: 26\n",
      "Total Images: 48\n",
      "Total Images Correct Predicted: 27\n",
      "Total Images: 49\n",
      "Total Images Correct Predicted: 27\n",
      "Total Images: 50\n",
      "Total Images Correct Predicted: 27\n",
      "Total Images: 51\n",
      "Total Images Correct Predicted: 28\n",
      "Total Images: 52\n",
      "Total Images Correct Predicted: 28\n",
      "Total Images: 53\n",
      "Total Images Correct Predicted: 29\n",
      "Total Images: 54\n",
      "Total Images Correct Predicted: 30\n",
      "Total Images: 55\n",
      "Total Images Correct Predicted: 31\n",
      "Total Images: 56\n",
      "Total Images Correct Predicted: 32\n",
      "Total Images: 57\n",
      "Total Images Correct Predicted: 33\n",
      "Total Images: 58\n",
      "Total Images Correct Predicted: 33\n",
      "Total Images: 59\n",
      "Total Images Correct Predicted: 34\n",
      "Total Images: 60\n",
      "Total Images Correct Predicted: 34\n",
      "Total Images: 61\n",
      "Total Images Correct Predicted: 34\n",
      "Total Images: 62\n",
      "Total Images Correct Predicted: 35\n",
      "Total Images: 63\n",
      "Total Images Correct Predicted: 35\n",
      "Total Images: 64\n",
      "Total Images Correct Predicted: 35\n",
      "Total Images: 65\n",
      "Total Images Correct Predicted: 35\n",
      "Total Images: 66\n",
      "Total Images Correct Predicted: 36\n",
      "Total Images: 67\n",
      "Total Images Correct Predicted: 37\n",
      "Total Images: 68\n",
      "Total Images Correct Predicted: 37\n",
      "Total Images: 69\n",
      "Total Images Correct Predicted: 38\n",
      "Total Images: 70\n",
      "Total Images Correct Predicted: 38\n",
      "Total Images: 71\n",
      "Total Images Correct Predicted: 39\n",
      "Total Images: 72\n",
      "Total Images Correct Predicted: 40\n",
      "Total Images: 73\n",
      "Total Images Correct Predicted: 41\n",
      "Total Images: 74\n",
      "Total Images Correct Predicted: 41\n",
      "Total Images: 75\n",
      "Total Images Correct Predicted: 41\n",
      "Total Images: 76\n",
      "Total Images Correct Predicted: 42\n",
      "Total Images: 77\n",
      "Total Images Correct Predicted: 42\n",
      "Total Images: 78\n",
      "Total Images Correct Predicted: 43\n",
      "Total Images: 79\n",
      "Total Images Correct Predicted: 43\n",
      "Total Images: 80\n",
      "Total Images Correct Predicted: 44\n",
      "Total Images: 81\n",
      "Total Images Correct Predicted: 44\n",
      "Total Images: 82\n",
      "Total Images Correct Predicted: 45\n",
      "Total Images: 83\n",
      "Total Images Correct Predicted: 46\n",
      "Total Images: 84\n",
      "Total Images Correct Predicted: 47\n",
      "Total Images: 85\n",
      "Total Images Correct Predicted: 48\n",
      "Total Images: 86\n",
      "Total Images Correct Predicted: 49\n",
      "Total Images: 87\n",
      "Total Images Correct Predicted: 49\n",
      "Total Images: 88\n",
      "Total Images Correct Predicted: 50\n",
      "Total Images: 89\n",
      "Total Images Correct Predicted: 50\n",
      "Total Images: 90\n",
      "Total Images Correct Predicted: 51\n",
      "Total Images: 91\n",
      "Total Images Correct Predicted: 51\n",
      "Total Images: 92\n",
      "Total Images Correct Predicted: 52\n",
      "Total Images: 93\n",
      "Total Images Correct Predicted: 53\n",
      "Total Images: 94\n",
      "Total Images Correct Predicted: 54\n",
      "Total Images: 95\n",
      "Total Images Correct Predicted: 54\n",
      "Total Images: 96\n",
      "Total Images Correct Predicted: 55\n",
      "Total Images: 97\n",
      "Total Images Correct Predicted: 56\n",
      "Total Images: 98\n",
      "Total Images Correct Predicted: 57\n",
      "Total Images: 99\n",
      "Total Images Correct Predicted: 57\n",
      "Total Images: 100\n",
      "Total Images Correct Predicted: 57\n",
      "Total Images: 101\n",
      "Total Images Correct Predicted: 58\n",
      "Total Images: 102\n",
      "Total Images Correct Predicted: 59\n",
      "Total Images: 103\n",
      "Total Images Correct Predicted: 60\n",
      "Total Images: 104\n",
      "Total Images Correct Predicted: 60\n",
      "Total Images: 105\n",
      "Total Images Correct Predicted: 60\n",
      "Total Images: 106\n",
      "Total Images Correct Predicted: 60\n",
      "Total Images: 107\n",
      "Total Images Correct Predicted: 61\n",
      "Total Images: 108\n",
      "Total Images Correct Predicted: 61\n",
      "Total Images: 109\n",
      "Total Images Correct Predicted: 61\n",
      "Total Images: 110\n",
      "Total Images Correct Predicted: 61\n",
      "Total Images: 111\n",
      "Total Images Correct Predicted: 61\n",
      "Total Images: 112\n",
      "Total Images Correct Predicted: 61\n",
      "Total Images: 113\n",
      "Total Images Correct Predicted: 62\n",
      "Total Images: 114\n",
      "Total Images Correct Predicted: 62\n",
      "Total Images: 115\n",
      "Total Images Correct Predicted: 63\n",
      "Total Images: 116\n",
      "Total Images Correct Predicted: 64\n",
      "Total Images: 117\n",
      "Total Images Correct Predicted: 65\n",
      "Total Images: 118\n",
      "Total Images Correct Predicted: 65\n",
      "Total Images: 119\n",
      "Total Images Correct Predicted: 66\n",
      "Total Images: 120\n",
      "Total Images Correct Predicted: 67\n",
      "Total Images: 121\n",
      "Total Images Correct Predicted: 67\n",
      "Total Images: 122\n",
      "Total Images Correct Predicted: 68\n",
      "Total Images: 123\n",
      "Total Images Correct Predicted: 68\n",
      "Total Images: 124\n",
      "Total Images Correct Predicted: 69\n",
      "Total Images: 125\n",
      "Total Images Correct Predicted: 69\n",
      "Total Images: 125\n",
      "Total Images Correct Predicted: 69\n"
     ]
    }
   ],
   "source": [
    "correct_count = 0\n",
    "index = 0\n",
    "\n",
    "for image_id, image_label in validid_mapping.items():\n",
    "    predicted_label, _ , _ = tf_predictor(\n",
    "        trainid_mapping, trainid_sift_des, trainid_sift_des,\n",
    "        validid_sift_des[image_id], validid_sift_des[image_id]\n",
    "    )\n",
    "    \n",
    "    if predicted_label == image_label:\n",
    "        correct_count += 1\n",
    "    \n",
    "    index += 1\n",
    "    if index % 1 == 0:\n",
    "        print(f'Total Images: {index}')\n",
    "        print(f'Total Images Correct Predicted: {correct_count}')       \n",
    "    \n",
    "        \n",
    "print(f'Total Images: {len(validid_mapping)}')\n",
    "print(f'Total Images Correct Predicted: {correct_count}')\n",
    "    "
   ]
  },
  {
   "cell_type": "code",
   "execution_count": 100,
   "id": "aeaded77",
   "metadata": {},
   "outputs": [
    {
     "data": {
      "text/plain": [
       "47378"
      ]
     },
     "execution_count": 100,
     "metadata": {},
     "output_type": "execute_result"
    }
   ],
   "source": [
    "validid_mapping['4c224e64ad49dade']"
   ]
  },
  {
   "cell_type": "code",
   "execution_count": 101,
   "id": "e1ad2418",
   "metadata": {},
   "outputs": [
    {
     "name": "stdout",
     "output_type": "stream",
     "text": [
      "Referenced : 25 training images\n",
      "Referenced : 50 training images\n",
      "Referenced : 75 training images\n",
      "Referenced : 100 training images\n",
      "Referenced : 125 training images\n",
      "Referenced : 150 training images\n",
      "Referenced : 175 training images\n",
      "Referenced : 200 training images\n",
      "Referenced : 225 training images\n",
      "Referenced : 250 training images\n"
     ]
    }
   ],
   "source": [
    "predicted_label, good_matches_sift, good_matches_orb = tf_predictor(\n",
    "        trainid_mapping, trainid_sift_des, trainid_sift_des,\n",
    "        validid_sift_des['4c224e64ad49dade'], validid_sift_des['4c224e64ad49dade']\n",
    "    )"
   ]
  },
  {
   "cell_type": "code",
   "execution_count": 104,
   "id": "1bfa06a0",
   "metadata": {},
   "outputs": [
    {
     "data": {
      "text/plain": [
       "{10419: 19, 47378: 38, 168098: 21, 162833: 70, 1924: 12}"
      ]
     },
     "execution_count": 104,
     "metadata": {},
     "output_type": "execute_result"
    }
   ],
   "source": [
    "good_matches_sift"
   ]
  },
  {
   "cell_type": "code",
   "execution_count": 105,
   "id": "c0065fb6",
   "metadata": {},
   "outputs": [
    {
     "data": {
      "text/plain": [
       "162833"
      ]
     },
     "execution_count": 105,
     "metadata": {},
     "output_type": "execute_result"
    }
   ],
   "source": [
    "predicted_label"
   ]
  },
  {
   "cell_type": "code",
   "execution_count": null,
   "id": "1f12a3bc",
   "metadata": {},
   "outputs": [],
   "source": []
  },
  {
   "cell_type": "code",
   "execution_count": 96,
   "id": "7376dd23",
   "metadata": {},
   "outputs": [
    {
     "ename": "error",
     "evalue": "OpenCV(4.5.5) D:\\a\\opencv-python\\opencv-python\\opencv\\modules\\flann\\src\\miniflann.cpp:336: error: (-210:Unsupported format or combination of formats) in function 'cv::flann::buildIndex_'\n> type=0\n> ",
     "output_type": "error",
     "traceback": [
      "\u001b[1;31m---------------------------------------------------------------------------\u001b[0m",
      "\u001b[1;31merror\u001b[0m                                     Traceback (most recent call last)",
      "Input \u001b[1;32mIn [96]\u001b[0m, in \u001b[0;36m<cell line: 1>\u001b[1;34m()\u001b[0m\n\u001b[1;32m----> 1\u001b[0m matches \u001b[38;5;241m=\u001b[39m \u001b[43mmatching\u001b[49m\u001b[43m(\u001b[49m\u001b[43mvalidid_orb_des\u001b[49m\u001b[43m[\u001b[49m\u001b[38;5;124;43m'\u001b[39;49m\u001b[38;5;124;43m03e1331890523d51\u001b[39;49m\u001b[38;5;124;43m'\u001b[39;49m\u001b[43m]\u001b[49m\u001b[43m,\u001b[49m\u001b[43m \u001b[49m\u001b[43mvalidid_orb_des\u001b[49m\u001b[43m[\u001b[49m\u001b[38;5;124;43m'\u001b[39;49m\u001b[38;5;124;43m4c224e64ad49dade\u001b[39;49m\u001b[38;5;124;43m'\u001b[39;49m\u001b[43m]\u001b[49m\u001b[43m)\u001b[49m\n",
      "Input \u001b[1;32mIn [66]\u001b[0m, in \u001b[0;36mmatching\u001b[1;34m(des_a, des_b)\u001b[0m\n\u001b[0;32m     10\u001b[0m \u001b[38;5;28;01mdef\u001b[39;00m \u001b[38;5;21mmatching\u001b[39m(des_a, des_b):\n\u001b[0;32m     11\u001b[0m     flann \u001b[38;5;241m=\u001b[39m cv2\u001b[38;5;241m.\u001b[39mFlannBasedMatcher(index_params, search_params)\n\u001b[1;32m---> 12\u001b[0m     matches \u001b[38;5;241m=\u001b[39m \u001b[43mflann\u001b[49m\u001b[38;5;241;43m.\u001b[39;49m\u001b[43mknnMatch\u001b[49m\u001b[43m(\u001b[49m\u001b[43mdes_a\u001b[49m\u001b[43m,\u001b[49m\u001b[43m \u001b[49m\u001b[43mdes_b\u001b[49m\u001b[43m,\u001b[49m\u001b[43m \u001b[49m\u001b[43mk\u001b[49m\u001b[38;5;241;43m=\u001b[39;49m\u001b[38;5;241;43m2\u001b[39;49m\u001b[43m)\u001b[49m\n\u001b[0;32m     14\u001b[0m     \u001b[38;5;28;01mreturn\u001b[39;00m matches\n",
      "\u001b[1;31merror\u001b[0m: OpenCV(4.5.5) D:\\a\\opencv-python\\opencv-python\\opencv\\modules\\flann\\src\\miniflann.cpp:336: error: (-210:Unsupported format or combination of formats) in function 'cv::flann::buildIndex_'\n> type=0\n> "
     ]
    }
   ],
   "source": [
    "matches = matching(validid_orb_des['03e1331890523d51'], validid_orb_des['4c224e64ad49dade'])"
   ]
  },
  {
   "cell_type": "code",
   "execution_count": 89,
   "id": "9875c16d",
   "metadata": {},
   "outputs": [
    {
     "name": "stdout",
     "output_type": "stream",
     "text": [
      "0\n"
     ]
    }
   ],
   "source": [
    "c = good_matching(matches, 0.5)\n",
    "print(c)"
   ]
  },
  {
   "cell_type": "code",
   "execution_count": 90,
   "id": "7300bca3",
   "metadata": {},
   "outputs": [],
   "source": [
    "matches = matching(validid_sift_des['03e1331890523d51'], trainid_sift_des['2a17c380e2f32622'])"
   ]
  },
  {
   "cell_type": "code",
   "execution_count": 91,
   "id": "74cd7be2",
   "metadata": {},
   "outputs": [
    {
     "name": "stdout",
     "output_type": "stream",
     "text": [
      "0\n"
     ]
    }
   ],
   "source": [
    "c = good_matching(matches, 0.5)\n",
    "print(c)"
   ]
  },
  {
   "cell_type": "code",
   "execution_count": 98,
   "id": "65c22d70",
   "metadata": {},
   "outputs": [
    {
     "data": {
      "text/plain": [
       "array([[23.,  3.,  0., ...,  0.,  0.,  0.],\n",
       "       [ 5., 16.,  0., ...,  0.,  0.,  0.],\n",
       "       [50.,  0.,  0., ...,  3.,  2.,  1.],\n",
       "       ...,\n",
       "       [37., 24.,  1., ..., 49., 37.,  4.],\n",
       "       [32., 60., 25., ..., 17.,  0.,  0.],\n",
       "       [ 0.,  0.,  0., ..., 20.,  0.,  0.]], dtype=float32)"
      ]
     },
     "execution_count": 98,
     "metadata": {},
     "output_type": "execute_result"
    }
   ],
   "source": [
    "validid_sift_des['03e1331890523d51']"
   ]
  },
  {
   "cell_type": "code",
   "execution_count": null,
   "id": "34d9b697",
   "metadata": {},
   "outputs": [],
   "source": []
  }
 ],
 "metadata": {
  "kernelspec": {
   "display_name": "W281",
   "language": "python",
   "name": "w281"
  },
  "language_info": {
   "codemirror_mode": {
    "name": "ipython",
    "version": 3
   },
   "file_extension": ".py",
   "mimetype": "text/x-python",
   "name": "python",
   "nbconvert_exporter": "python",
   "pygments_lexer": "ipython3",
   "version": "3.10.4"
  }
 },
 "nbformat": 4,
 "nbformat_minor": 5
}
