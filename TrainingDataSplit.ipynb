{
 "cells": [
  {
   "cell_type": "code",
   "execution_count": 1,
   "id": "da91fe6b",
   "metadata": {},
   "outputs": [],
   "source": [
    "import pandas as pd\n",
    "import numpy as np\n",
    "import random\n",
    "from sklearn import model_selection\n",
    "import os"
   ]
  },
  {
   "cell_type": "code",
   "execution_count": 2,
   "id": "d87e74d2",
   "metadata": {},
   "outputs": [],
   "source": [
    "TRAINING_FILE =  './TargetData.csv'\n",
    "dfx = pd.read_csv(TRAINING_FILE)\n",
    "\n",
    "label_map = {}\n",
    "original_label = dfx.landmark_id.unique()\n",
    "for index in range(len(original_label)):\n",
    "    label_map[original_label[index]] = index\n",
    "\n",
    "dfx['label'] = dfx['landmark_id'].map(label_map)\n"
   ]
  },
  {
   "cell_type": "code",
   "execution_count": 3,
   "id": "095e271b",
   "metadata": {},
   "outputs": [
    {
     "data": {
      "text/html": [
       "<div>\n",
       "<style scoped>\n",
       "    .dataframe tbody tr th:only-of-type {\n",
       "        vertical-align: middle;\n",
       "    }\n",
       "\n",
       "    .dataframe tbody tr th {\n",
       "        vertical-align: top;\n",
       "    }\n",
       "\n",
       "    .dataframe thead th {\n",
       "        text-align: right;\n",
       "    }\n",
       "</style>\n",
       "<table border=\"1\" class=\"dataframe\">\n",
       "  <thead>\n",
       "    <tr style=\"text-align: right;\">\n",
       "      <th></th>\n",
       "      <th>id</th>\n",
       "      <th>landmark_id</th>\n",
       "      <th>label</th>\n",
       "    </tr>\n",
       "  </thead>\n",
       "  <tbody>\n",
       "    <tr>\n",
       "      <th>0</th>\n",
       "      <td>00cba0067c078490</td>\n",
       "      <td>27</td>\n",
       "      <td>0</td>\n",
       "    </tr>\n",
       "    <tr>\n",
       "      <th>1</th>\n",
       "      <td>00f928e383e1d121</td>\n",
       "      <td>27</td>\n",
       "      <td>0</td>\n",
       "    </tr>\n",
       "    <tr>\n",
       "      <th>2</th>\n",
       "      <td>0110a04e618bc368</td>\n",
       "      <td>27</td>\n",
       "      <td>0</td>\n",
       "    </tr>\n",
       "    <tr>\n",
       "      <th>3</th>\n",
       "      <td>026afdc670937e3b</td>\n",
       "      <td>27</td>\n",
       "      <td>0</td>\n",
       "    </tr>\n",
       "    <tr>\n",
       "      <th>4</th>\n",
       "      <td>0319627771784e54</td>\n",
       "      <td>27</td>\n",
       "      <td>0</td>\n",
       "    </tr>\n",
       "  </tbody>\n",
       "</table>\n",
       "</div>"
      ],
      "text/plain": [
       "                 id  landmark_id  label\n",
       "0  00cba0067c078490           27      0\n",
       "1  00f928e383e1d121           27      0\n",
       "2  0110a04e618bc368           27      0\n",
       "3  026afdc670937e3b           27      0\n",
       "4  0319627771784e54           27      0"
      ]
     },
     "execution_count": 3,
     "metadata": {},
     "output_type": "execute_result"
    }
   ],
   "source": [
    "dfx.head()"
   ]
  },
  {
   "cell_type": "code",
   "execution_count": 4,
   "id": "384b115e",
   "metadata": {},
   "outputs": [
    {
     "data": {
      "text/plain": [
       "138982    6272\n",
       "126637    2231\n",
       "20409     1758\n",
       "83144     1741\n",
       "113209    1135\n",
       "177870    1088\n",
       "194914    1073\n",
       "149980     971\n",
       "139894     966\n",
       "1924       944\n",
       "176528     920\n",
       "9070       900\n",
       "20120      888\n",
       "46705      888\n",
       "168098     888\n",
       "161902     861\n",
       "36748      839\n",
       "120734     820\n",
       "176018     820\n",
       "10419      776\n",
       "45428      757\n",
       "14915      754\n",
       "41648      742\n",
       "165596     734\n",
       "47378      731\n",
       "187779     730\n",
       "38482      704\n",
       "40088      679\n",
       "25093      663\n",
       "162833     662\n",
       "173511     656\n",
       "189907     621\n",
       "190822     614\n",
       "76303      604\n",
       "191292     600\n",
       "109169     597\n",
       "51856      576\n",
       "192931     572\n",
       "41808      570\n",
       "107164     542\n",
       "189811     540\n",
       "101399     538\n",
       "64792      531\n",
       "80177      527\n",
       "27190      520\n",
       "152708     514\n",
       "143710     508\n",
       "31531      505\n",
       "27         504\n",
       "113838     503\n",
       "85633      502\n",
       "Name: landmark_id, dtype: int64"
      ]
     },
     "execution_count": 4,
     "metadata": {},
     "output_type": "execute_result"
    }
   ],
   "source": [
    "dfx.landmark_id.value_counts()"
   ]
  },
  {
   "cell_type": "code",
   "execution_count": 5,
   "id": "16fbbca4",
   "metadata": {},
   "outputs": [],
   "source": [
    "df_train_valid, df_test = model_selection.train_test_split(\n",
    "    dfx, \n",
    "    test_size=0.1,\n",
    "    random_state=42,\n",
    "    stratify=dfx.landmark_id.values\n",
    ")\n",
    "\n",
    "df_train, df_valid = model_selection.train_test_split(\n",
    "    df_train_valid, \n",
    "    test_size=0.1,\n",
    "    random_state=42,\n",
    "    stratify=df_train_valid.landmark_id.values\n",
    ")"
   ]
  },
  {
   "cell_type": "code",
   "execution_count": 6,
   "id": "ca584485",
   "metadata": {},
   "outputs": [
    {
     "name": "stdout",
     "output_type": "stream",
     "text": [
      "Total Data: 45579\n",
      "Total Training-Valid Data: 41021\n",
      "Total Test Data: 4558\n",
      "Total Training Data: 36918\n",
      "Total Validation Data: 4103\n"
     ]
    }
   ],
   "source": [
    "print(f'Total Data: {len(dfx)}')\n",
    "print(f'Total Training-Valid Data: {len(df_train_valid)}')\n",
    "print(f'Total Test Data: {len(df_test)}')\n",
    "print(f'Total Training Data: {len(df_train)}')\n",
    "print(f'Total Validation Data: {len(df_valid)}')"
   ]
  },
  {
   "cell_type": "code",
   "execution_count": 7,
   "id": "8d3f37b3",
   "metadata": {},
   "outputs": [],
   "source": [
    "df_test.to_csv('./TargetData-Test.csv', index=False)  \n",
    "df_train.to_csv('./TargetData-Train.csv', index=False)  \n",
    "df_valid.to_csv('./TargetData-Valid.csv', index=False)  "
   ]
  },
  {
   "cell_type": "code",
   "execution_count": 8,
   "id": "5c6bb113",
   "metadata": {},
   "outputs": [
    {
     "data": {
      "text/plain": [
       "{27: 0,\n",
       " 1924: 1,\n",
       " 9070: 2,\n",
       " 10419: 3,\n",
       " 14915: 4,\n",
       " 20120: 5,\n",
       " 20409: 6,\n",
       " 25093: 7,\n",
       " 27190: 8,\n",
       " 31531: 9,\n",
       " 36748: 10,\n",
       " 38482: 11,\n",
       " 40088: 12,\n",
       " 41648: 13,\n",
       " 41808: 14,\n",
       " 45428: 15,\n",
       " 46705: 16,\n",
       " 47378: 17,\n",
       " 51856: 18,\n",
       " 64792: 19,\n",
       " 76303: 20,\n",
       " 80177: 21,\n",
       " 83144: 22,\n",
       " 85633: 23,\n",
       " 101399: 24,\n",
       " 107164: 25,\n",
       " 109169: 26,\n",
       " 113209: 27,\n",
       " 113838: 28,\n",
       " 120734: 29,\n",
       " 126637: 30,\n",
       " 138982: 31,\n",
       " 139894: 32,\n",
       " 143710: 33,\n",
       " 149980: 34,\n",
       " 152708: 35,\n",
       " 161902: 36,\n",
       " 162833: 37,\n",
       " 165596: 38,\n",
       " 168098: 39,\n",
       " 173511: 40,\n",
       " 176018: 41,\n",
       " 176528: 42,\n",
       " 177870: 43,\n",
       " 187779: 44,\n",
       " 189811: 45,\n",
       " 189907: 46,\n",
       " 190822: 47,\n",
       " 191292: 48,\n",
       " 192931: 49,\n",
       " 194914: 50}"
      ]
     },
     "execution_count": 8,
     "metadata": {},
     "output_type": "execute_result"
    }
   ],
   "source": [
    "label_map"
   ]
  },
  {
   "cell_type": "code",
   "execution_count": null,
   "id": "5a9a3894",
   "metadata": {},
   "outputs": [],
   "source": []
  },
  {
   "cell_type": "code",
   "execution_count": 25,
   "id": "69c88456",
   "metadata": {},
   "outputs": [
    {
     "data": {
      "text/plain": [
       "51"
      ]
     },
     "execution_count": 25,
     "metadata": {},
     "output_type": "execute_result"
    }
   ],
   "source": []
  },
  {
   "cell_type": "code",
   "execution_count": null,
   "id": "b7e3b9f8",
   "metadata": {},
   "outputs": [],
   "source": []
  },
  {
   "cell_type": "code",
   "execution_count": null,
   "id": "0b38a088",
   "metadata": {},
   "outputs": [],
   "source": []
  },
  {
   "cell_type": "code",
   "execution_count": null,
   "id": "7f1594bc",
   "metadata": {},
   "outputs": [],
   "source": []
  }
 ],
 "metadata": {
  "kernelspec": {
   "display_name": "Python (pytorchdl)",
   "language": "python",
   "name": "pytorchdl"
  },
  "language_info": {
   "codemirror_mode": {
    "name": "ipython",
    "version": 3
   },
   "file_extension": ".py",
   "mimetype": "text/x-python",
   "name": "python",
   "nbconvert_exporter": "python",
   "pygments_lexer": "ipython3",
   "version": "3.8.5"
  }
 },
 "nbformat": 4,
 "nbformat_minor": 5
}
